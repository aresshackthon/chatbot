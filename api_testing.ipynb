{
 "cells": [
  {
   "cell_type": "code",
   "execution_count": 1,
   "id": "a64138e1",
   "metadata": {},
   "outputs": [
    {
     "name": "stdout",
     "output_type": "stream",
     "text": [
      "Requirement already satisfied: requests in d:\\chatbot\\chatbot_shoeb\\lib\\site-packages (2.27.1)\n",
      "Requirement already satisfied: charset-normalizer~=2.0.0 in d:\\chatbot\\chatbot_shoeb\\lib\\site-packages (from requests) (2.0.12)\n",
      "Requirement already satisfied: urllib3<1.27,>=1.21.1 in d:\\chatbot\\chatbot_shoeb\\lib\\site-packages (from requests) (1.26.9)\n",
      "Requirement already satisfied: idna<4,>=2.5 in d:\\chatbot\\chatbot_shoeb\\lib\\site-packages (from requests) (3.3)\n",
      "Requirement already satisfied: certifi>=2017.4.17 in d:\\chatbot\\chatbot_shoeb\\lib\\site-packages (from requests) (2021.10.8)\n"
     ]
    }
   ],
   "source": [
    "!pip install requests"
   ]
  },
  {
   "cell_type": "code",
   "execution_count": 2,
   "id": "dd565441",
   "metadata": {},
   "outputs": [],
   "source": [
    "import requests"
   ]
  },
  {
   "cell_type": "code",
   "execution_count": 3,
   "id": "87fffc2d",
   "metadata": {},
   "outputs": [],
   "source": [
    "url = \"https://api.libertasfunding.com/v2/auth\""
   ]
  },
  {
   "cell_type": "code",
   "execution_count": 4,
   "id": "3f6918ae",
   "metadata": {},
   "outputs": [],
   "source": [
    "response = requests.get(url)"
   ]
  },
  {
   "cell_type": "code",
   "execution_count": 5,
   "id": "92cade24",
   "metadata": {},
   "outputs": [
    {
     "name": "stdout",
     "output_type": "stream",
     "text": [
      "400\n"
     ]
    }
   ],
   "source": [
    "print(response.status_code)"
   ]
  },
  {
   "cell_type": "code",
   "execution_count": 7,
   "id": "40917d16",
   "metadata": {},
   "outputs": [],
   "source": [
    "import requests\n",
    "import json\n",
    "import base64\n",
    "from datetime import date\n",
    "import pandas as pd\n",
    "import os"
   ]
  },
  {
   "cell_type": "code",
   "execution_count": 8,
   "id": "d166b32b",
   "metadata": {},
   "outputs": [
    {
     "ename": "FileNotFoundError",
     "evalue": "[Errno 2] No such file or directory: 'Login.json'",
     "output_type": "error",
     "traceback": [
      "\u001b[1;31m---------------------------------------------------------------------------\u001b[0m",
      "\u001b[1;31mFileNotFoundError\u001b[0m                         Traceback (most recent call last)",
      "\u001b[1;32m~\\AppData\\Local\\Temp\\ipykernel_1876\\1349089536.py\u001b[0m in \u001b[0;36m<cell line: 7>\u001b[1;34m()\u001b[0m\n\u001b[0;32m      5\u001b[0m \u001b[1;33m\u001b[0m\u001b[0m\n\u001b[0;32m      6\u001b[0m \u001b[1;33m\u001b[0m\u001b[0m\n\u001b[1;32m----> 7\u001b[1;33m \u001b[0mlogin_info\u001b[0m \u001b[1;33m=\u001b[0m \u001b[0mjson\u001b[0m\u001b[1;33m.\u001b[0m\u001b[0mload\u001b[0m\u001b[1;33m(\u001b[0m\u001b[0mopen\u001b[0m\u001b[1;33m(\u001b[0m\u001b[1;34m\"Login.json\"\u001b[0m\u001b[1;33m)\u001b[0m\u001b[1;33m)\u001b[0m\u001b[1;33m\u001b[0m\u001b[1;33m\u001b[0m\u001b[0m\n\u001b[0m\u001b[0;32m      8\u001b[0m \u001b[1;33m\u001b[0m\u001b[0m\n\u001b[0;32m      9\u001b[0m \u001b[0macc_username\u001b[0m \u001b[1;33m=\u001b[0m \u001b[0mlogin_info\u001b[0m\u001b[1;33m[\u001b[0m\u001b[1;34m\"username\"\u001b[0m\u001b[1;33m]\u001b[0m\u001b[1;33m\u001b[0m\u001b[1;33m\u001b[0m\u001b[0m\n",
      "\u001b[1;31mFileNotFoundError\u001b[0m: [Errno 2] No such file or directory: 'Login.json'"
     ]
    }
   ],
   "source": [
    "cwd=\"\"\n",
    "cwd = os.getcwd()\n",
    "\n",
    "today = date.today()\n",
    "\n",
    "\n",
    "login_info = json.load(open(\"Login.json\"))\n",
    "\n",
    "acc_username = login_info[\"username\"]\n",
    "acc_password = login_info[\"password\"]\n",
    "acc_security_token = login_info[\"security_token\"]\n",
    "acc_domain = login_info[\"domain\"]\n",
    "acc_client_id = login_info[\"client_id\"]\n",
    "acc_client_secret = login_info[\"client_secret\"]\n",
    "acc_grant_type = login_info[\"grant_type\"]"
   ]
  },
  {
   "cell_type": "code",
   "execution_count": 9,
   "id": "fa5a1717",
   "metadata": {},
   "outputs": [
    {
     "ename": "NameError",
     "evalue": "name 'acc_grant_type' is not defined",
     "output_type": "error",
     "traceback": [
      "\u001b[1;31m---------------------------------------------------------------------------\u001b[0m",
      "\u001b[1;31mNameError\u001b[0m                                 Traceback (most recent call last)",
      "\u001b[1;32m~\\AppData\\Local\\Temp\\ipykernel_1876\\1155963492.py\u001b[0m in \u001b[0;36m<cell line: 2>\u001b[1;34m()\u001b[0m\n\u001b[0;32m      1\u001b[0m params = {\n\u001b[1;32m----> 2\u001b[1;33m     \u001b[1;34m\"grant_type\"\u001b[0m\u001b[1;33m:\u001b[0m \u001b[0macc_grant_type\u001b[0m\u001b[1;33m,\u001b[0m\u001b[1;33m\u001b[0m\u001b[1;33m\u001b[0m\u001b[0m\n\u001b[0m\u001b[0;32m      3\u001b[0m     \u001b[1;34m\"client_id\"\u001b[0m\u001b[1;33m:\u001b[0m \u001b[0macc_client_id\u001b[0m\u001b[1;33m,\u001b[0m \u001b[1;31m# Consumer Key\u001b[0m\u001b[1;33m\u001b[0m\u001b[1;33m\u001b[0m\u001b[0m\n\u001b[0;32m      4\u001b[0m     \u001b[1;34m\"client_secret\"\u001b[0m\u001b[1;33m:\u001b[0m \u001b[0macc_client_secret\u001b[0m\u001b[1;33m,\u001b[0m \u001b[1;31m# Consumer Secret\u001b[0m\u001b[1;33m\u001b[0m\u001b[1;33m\u001b[0m\u001b[0m\n\u001b[0;32m      5\u001b[0m     \u001b[1;34m\"username\"\u001b[0m\u001b[1;33m:\u001b[0m \u001b[0macc_username\u001b[0m\u001b[1;33m,\u001b[0m \u001b[1;31m# The email you use to login\u001b[0m\u001b[1;33m\u001b[0m\u001b[1;33m\u001b[0m\u001b[0m\n",
      "\u001b[1;31mNameError\u001b[0m: name 'acc_grant_type' is not defined"
     ]
    }
   ],
   "source": [
    "params = {\n",
    "    \"grant_type\": acc_grant_type,\n",
    "    \"client_id\": acc_client_id, # Consumer Key\n",
    "    \"client_secret\": acc_client_secret, # Consumer Secret\n",
    "    \"username\": acc_username, # The email you use to login\n",
    "    \"password\": acc_password # Concat your password and your security token\n",
    "}\n"
   ]
  },
  {
   "cell_type": "code",
   "execution_count": null,
   "id": "4e519df6",
   "metadata": {},
   "outputs": [],
   "source": []
  }
 ],
 "metadata": {
  "kernelspec": {
   "display_name": "Python 3 (ipykernel)",
   "language": "python",
   "name": "python3"
  },
  "language_info": {
   "codemirror_mode": {
    "name": "ipython",
    "version": 3
   },
   "file_extension": ".py",
   "mimetype": "text/x-python",
   "name": "python",
   "nbconvert_exporter": "python",
   "pygments_lexer": "ipython3",
   "version": "3.9.6"
  }
 },
 "nbformat": 4,
 "nbformat_minor": 5
}
